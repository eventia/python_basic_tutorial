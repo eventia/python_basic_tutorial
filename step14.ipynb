{
  "nbformat": 4,
  "nbformat_minor": 0,
  "metadata": {
    "colab": {
      "name": "step14.ipynb",
      "version": "0.3.2",
      "provenance": [],
      "collapsed_sections": [],
      "include_colab_link": true
    },
    "kernelspec": {
      "name": "python3",
      "display_name": "Python 3"
    }
  },
  "cells": [
    {
      "cell_type": "markdown",
      "metadata": {
        "id": "view-in-github",
        "colab_type": "text"
      },
      "source": [
        "<a href=\"https://colab.research.google.com/github/eventia/python_basic_tutorial/blob/master/step14.ipynb\" target=\"_parent\"><img src=\"https://colab.research.google.com/assets/colab-badge.svg\" alt=\"Open In Colab\"/></a>"
      ]
    },
    {
      "metadata": {
        "id": "dPDAfIdG9Kbk",
        "colab_type": "text"
      },
      "cell_type": "markdown",
      "source": [
        "## STEP14. 2-1. 리스트 소개(1)"
      ]
    },
    {
      "metadata": {
        "id": "qipFjz-RV6gS",
        "colab_type": "code",
        "colab": {}
      },
      "cell_type": "code",
      "source": [
        "# Q-1. 다음중 리스트는?\n",
        "\n",
        "a = [1, 2, 3]\n",
        "b = ['a', 'b', 'c']\n",
        "c = [1]\n",
        "d = 2  # int\n",
        "# print(type(c))"
      ],
      "execution_count": 0,
      "outputs": []
    },
    {
      "metadata": {
        "id": "rC1HHUiBXHXU",
        "colab_type": "code",
        "colab": {}
      },
      "cell_type": "code",
      "source": [
        "# Q-2. 리스트를 사용한 것은?\n",
        "\n",
        "a = (1, 2, 3)\n",
        "b = {'a', 'b', 'c'}\n",
        "c = [1]\n",
        "d = 2\n",
        "e = {'k1':10, 'k2':20, 'k3':30}\n",
        "# print(type(e))"
      ],
      "execution_count": 0,
      "outputs": []
    },
    {
      "metadata": {
        "id": "6WTiWGvYXyLj",
        "colab_type": "code",
        "colab": {}
      },
      "cell_type": "code",
      "source": [
        "# Q-3. 다음 코드의 실행결과는?\n",
        "\n",
        "a = [1]\n",
        "print(a)\n"
      ],
      "execution_count": 0,
      "outputs": []
    },
    {
      "metadata": {
        "id": "-wPSPIv_Xz_G",
        "colab_type": "code",
        "colab": {}
      },
      "cell_type": "code",
      "source": [
        "# Q-4. 다음 코드의 실행결과는?\n",
        "\n",
        "a = [1]\n",
        "a.append(2)  # [1, 2]\n",
        "print(a)\n"
      ],
      "execution_count": 0,
      "outputs": []
    },
    {
      "metadata": {
        "id": "iSgkSYcmX0Em",
        "colab_type": "code",
        "colab": {}
      },
      "cell_type": "code",
      "source": [
        "# Q-5. 다음 코드의 실행결과는?\n",
        "\n",
        "a = [1]\n",
        "a.append(2)  # [1, 2]\n",
        "a = a + ['1']  # [1, 2, '1']\n",
        "print(a)\n"
      ],
      "execution_count": 0,
      "outputs": []
    }
  ]
}
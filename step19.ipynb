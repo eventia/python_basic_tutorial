{
  "nbformat": 4,
  "nbformat_minor": 0,
  "metadata": {
    "colab": {
      "name": "step19.ipynb",
      "version": "0.3.2",
      "provenance": [],
      "collapsed_sections": [],
      "include_colab_link": true
    },
    "kernelspec": {
      "name": "python3",
      "display_name": "Python 3"
    }
  },
  "cells": [
    {
      "cell_type": "markdown",
      "metadata": {
        "id": "view-in-github",
        "colab_type": "text"
      },
      "source": [
        "<a href=\"https://colab.research.google.com/github/eventia/python_basic_tutorial/blob/master/step19.ipynb\" target=\"_parent\"><img src=\"https://colab.research.google.com/assets/colab-badge.svg\" alt=\"Open In Colab\"/></a>"
      ]
    },
    {
      "metadata": {
        "id": "dPDAfIdG9Kbk",
        "colab_type": "text"
      },
      "cell_type": "markdown",
      "source": [
        "## STEP19. 2-3. 리스트 내부(1)"
      ]
    },
    {
      "metadata": {
        "id": "qipFjz-RV6gS",
        "colab_type": "code",
        "colab": {}
      },
      "cell_type": "code",
      "source": [
        "# Q-1. 다음 코드의 실행결과는?\n",
        "\n",
        "a = [[1, 2, 3], [3, 4, 5], [5, 6, 7]]\n",
        "\n",
        "print(a[1][1])\n",
        "\n"
      ],
      "execution_count": 0,
      "outputs": []
    },
    {
      "metadata": {
        "id": "rC1HHUiBXHXU",
        "colab_type": "code",
        "colab": {}
      },
      "cell_type": "code",
      "source": [
        "# Q-2. 다음 코드의 실행결과는?\n",
        "\n",
        "a = [[1, 2, 3], [3, 4, 5], [5, 6, 7]]\n",
        "\n",
        "print(a[1][1]+a[2][1])\n"
      ],
      "execution_count": 0,
      "outputs": []
    },
    {
      "metadata": {
        "id": "6WTiWGvYXyLj",
        "colab_type": "code",
        "colab": {}
      },
      "cell_type": "code",
      "source": [
        "# Q-3. 다음 코드의 실행결과는?\n",
        "\n",
        "a = [[1, 2, 3], [3, 4, 5], [5, 6, 7]]\n",
        "\n",
        "print(a[1][1:])\n"
      ],
      "execution_count": 0,
      "outputs": []
    },
    {
      "metadata": {
        "id": "-wPSPIv_Xz_G",
        "colab_type": "code",
        "colab": {}
      },
      "cell_type": "code",
      "source": [
        "# Q-4. 다음 코드의 실행결과는?\n",
        "\n",
        "a = ['a', 'b', 'c', 'd', 'e', 'f']\n",
        "\n",
        "print(a[2:])\n"
      ],
      "execution_count": 0,
      "outputs": []
    },
    {
      "metadata": {
        "id": "iSgkSYcmX0Em",
        "colab_type": "code",
        "colab": {}
      },
      "cell_type": "code",
      "source": [
        "# Q-5. 다음 코드의 실행결과는?\n",
        "\n",
        "a = ['a', 'b', 'c', 'd', 'e', 'f']\n",
        "b = a[2:-1]\n",
        "print(b)\n"
      ],
      "execution_count": 0,
      "outputs": []
    }
  ]
}
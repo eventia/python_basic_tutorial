{
  "nbformat": 4,
  "nbformat_minor": 0,
  "metadata": {
    "colab": {
      "name": "step20.ipynb",
      "version": "0.3.2",
      "provenance": [],
      "collapsed_sections": [],
      "include_colab_link": true
    },
    "kernelspec": {
      "name": "python3",
      "display_name": "Python 3"
    }
  },
  "cells": [
    {
      "cell_type": "markdown",
      "metadata": {
        "id": "view-in-github",
        "colab_type": "text"
      },
      "source": [
        "<a href=\"https://colab.research.google.com/github/eventia/python_basic_tutorial/blob/master/step20.ipynb\" target=\"_parent\"><img src=\"https://colab.research.google.com/assets/colab-badge.svg\" alt=\"Open In Colab\"/></a>"
      ]
    },
    {
      "metadata": {
        "id": "dPDAfIdG9Kbk",
        "colab_type": "text"
      },
      "cell_type": "markdown",
      "source": [
        "## STEP20. 2-3. 리스트 내부(2)"
      ]
    },
    {
      "metadata": {
        "id": "qipFjz-RV6gS",
        "colab_type": "code",
        "colab": {}
      },
      "cell_type": "code",
      "source": [
        "# Q-1. 다음 코드의 실행결과는?\n",
        "\n",
        "a = [1, 2] + [2, 3]\n",
        "\n",
        "del(a[1])\n",
        "\n",
        "print(a)\n",
        "\n",
        "# (1) [1, 2, 3] \n",
        "#\n",
        "# (2) [2, 2, 3]\n",
        "#\n",
        "# (3) [1, 2, 2]\n",
        "#\n",
        "# (4) [3, 5]"
      ],
      "execution_count": 0,
      "outputs": []
    },
    {
      "metadata": {
        "id": "rC1HHUiBXHXU",
        "colab_type": "code",
        "colab": {}
      },
      "cell_type": "code",
      "source": [
        "# Q-2. 다음 코드의 실행결과는?\n",
        "\n",
        "a = 1\n",
        "b = a\n",
        "a = 10\n",
        "\n",
        "print(a)\n",
        "print(b)\n",
        "\n",
        "# (1) 1\n",
        "#     10\n",
        "#\n",
        "# (2) 10\n",
        "#     1\n",
        "#\n",
        "# (3) 10\n",
        "#     10"
      ],
      "execution_count": 0,
      "outputs": []
    },
    {
      "metadata": {
        "id": "6WTiWGvYXyLj",
        "colab_type": "code",
        "colab": {}
      },
      "cell_type": "code",
      "source": [
        "# Q-3. 다음 코드의 실행결과는?\n",
        "\n",
        "a = [1, 2]  # .......(9000)[1,2].....a:9000\n",
        "b = a   # b:9000\n",
        "a[1] = 6  # .......(9000)[1,6].....a:9000\n",
        "\n",
        "print(a)\n",
        "print(b)\n",
        "\n",
        "# (1) [1, 6]\n",
        "#     [1, 2]\n",
        "#\n",
        "# (2) [6, 2]\n",
        "#     [1, 2]\n",
        "#\n",
        "# (3) [1, 6]\n",
        "#     [1, 6]"
      ],
      "execution_count": 0,
      "outputs": []
    },
    {
      "metadata": {
        "id": "-wPSPIv_Xz_G",
        "colab_type": "code",
        "colab": {}
      },
      "cell_type": "code",
      "source": [
        "# Q-4. 다음 코드의 실행결과는?\n",
        "\n",
        "a = [1, 2]\n",
        "b = a\n",
        "b[1] = 6\n",
        "\n",
        "print(a)\n",
        "print(b)\n",
        "\n",
        "# (1) [1, 6]\n",
        "#     [1, 2]\n",
        "#\n",
        "# (2) [6, 2]\n",
        "#     [1, 2]\n",
        "#\n",
        "# (3) [1, 6]\n",
        "#     [1, 6]\n",
        "\n"
      ],
      "execution_count": 0,
      "outputs": []
    },
    {
      "metadata": {
        "id": "iSgkSYcmX0Em",
        "colab_type": "code",
        "colab": {}
      },
      "cell_type": "code",
      "source": [
        "# Q-5. 다음 코드의 실행결과는?\n",
        "\n",
        "a = [1, 2]   # .......(9000)[1,2].....a:9000\n",
        "b = a[:]     # .......(9000)[1,2].....a:9000......(9005)[1,2]...b:9005\n",
        "a[1] = 6\n",
        "\n",
        "print(a)\n",
        "print(b)\n",
        "\n",
        "# (1) [1, 6]\n",
        "#     [1, 2]\n",
        "#\n",
        "# (2) [6, 2]\n",
        "#     [1, 2]\n",
        "#\n",
        "# (3) [1, 6]\n",
        "#     [1, 6]\n"
      ],
      "execution_count": 0,
      "outputs": []
    }
  ]
}
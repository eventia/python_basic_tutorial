{
  "nbformat": 4,
  "nbformat_minor": 0,
  "metadata": {
    "colab": {
      "name": "step07.ipynb",
      "version": "0.3.2",
      "provenance": [],
      "collapsed_sections": [],
      "include_colab_link": true
    },
    "kernelspec": {
      "name": "python3",
      "display_name": "Python 3"
    }
  },
  "cells": [
    {
      "cell_type": "markdown",
      "metadata": {
        "id": "view-in-github",
        "colab_type": "text"
      },
      "source": [
        "<a href=\"https://colab.research.google.com/github/eventia/python_basic_tutorial/blob/master/step07.ipynb\" target=\"_parent\"><img src=\"https://colab.research.google.com/assets/colab-badge.svg\" alt=\"Open In Colab\"/></a>"
      ]
    },
    {
      "metadata": {
        "id": "dPDAfIdG9Kbk",
        "colab_type": "text"
      },
      "cell_type": "markdown",
      "source": [
        "## STEP07. 1-3. 파이썬의 변수(1)"
      ]
    },
    {
      "metadata": {
        "id": "qipFjz-RV6gS",
        "colab_type": "code",
        "colab": {}
      },
      "cell_type": "code",
      "source": [
        "# Q-1. 다음 코드의 실행결과는?\n",
        "\n",
        "number = 100\n",
        "print(number)\n"
      ],
      "execution_count": 0,
      "outputs": []
    },
    {
      "metadata": {
        "id": "rC1HHUiBXHXU",
        "colab_type": "code",
        "colab": {}
      },
      "cell_type": "code",
      "source": [
        "# Q-2. 원하는 답은 아래와 같다. 아래 코드의 순서를 고쳐서 결과가 정상적으로 나오게 만들어보라.\n",
        "#\n",
        "# 365\n",
        "\n",
        "print(a)\n",
        "# 365 를 출력하는 프로그램\n",
        "a = 365\n"
      ],
      "execution_count": 0,
      "outputs": []
    },
    {
      "metadata": {
        "id": "6WTiWGvYXyLj",
        "colab_type": "code",
        "colab": {}
      },
      "cell_type": "code",
      "source": [
        "# Q-3. 다음 3가지 코드의 결과를 쓰시오.\n",
        "\n",
        "income = 100\n",
        "costs = 20\n",
        "print(profit)\n",
        "\n",
        "\n",
        "income = 100\n",
        "costs = 20\n",
        "print(costs-income)\n",
        "\n",
        "\n",
        "income = 100\n",
        "costs = 20\n",
        "print(income-costs)\n"
      ],
      "execution_count": 0,
      "outputs": []
    },
    {
      "metadata": {
        "id": "-wPSPIv_Xz_G",
        "colab_type": "code",
        "colab": {}
      },
      "cell_type": "code",
      "source": [
        "# Q-4. 다음 코드의 실행결과는?\n",
        "\n",
        "revenue = 100\n",
        "cost = 30\n",
        "profit = revenue - cost\n",
        "print(profit)\n",
        "\n"
      ],
      "execution_count": 0,
      "outputs": []
    },
    {
      "metadata": {
        "id": "iSgkSYcmX0Em",
        "colab_type": "code",
        "colab": {}
      },
      "cell_type": "code",
      "source": [
        "# Q-5. 변수의 사용목적은 무엇인가?\n",
        "\n",
        "# 값에 이름을 주기 위해\n",
        "# 사용할 값을 저장하기 위해\n"
      ],
      "execution_count": 0,
      "outputs": []
    }
  ]
}
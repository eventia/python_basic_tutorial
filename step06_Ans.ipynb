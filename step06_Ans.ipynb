{
  "nbformat": 4,
  "nbformat_minor": 0,
  "metadata": {
    "colab": {
      "name": "step06-Ans.ipynb",
      "version": "0.3.2",
      "provenance": [],
      "collapsed_sections": [],
      "include_colab_link": true
    },
    "kernelspec": {
      "name": "python3",
      "display_name": "Python 3"
    }
  },
  "cells": [
    {
      "cell_type": "markdown",
      "metadata": {
        "id": "view-in-github",
        "colab_type": "text"
      },
      "source": [
        "<a href=\"https://colab.research.google.com/github/eventia/python_basic_tutorial/blob/master/step06_Ans.ipynb\" target=\"_parent\"><img src=\"https://colab.research.google.com/assets/colab-badge.svg\" alt=\"Open In Colab\"/></a>"
      ]
    },
    {
      "metadata": {
        "id": "dPDAfIdG9Kbk",
        "colab_type": "text"
      },
      "cell_type": "markdown",
      "source": [
        "## STEP06. 1-2. 기초 셈하기(3)"
      ]
    },
    {
      "metadata": {
        "id": "qipFjz-RV6gS",
        "colab_type": "code",
        "colab": {}
      },
      "cell_type": "code",
      "source": [
        "# Q-1. 일년에 이율이 10%인 은행에 100만원을 7년간 복리로 맡긴다면 7년후에 돈은 \n",
        "# 얼마가 되어 있을까를 계산해 보려고 한다. 우선 100만원이 1년후에는 얼마가 되는지 \n",
        "# 계산하여 출력하라.\n",
        "\n",
        "deposit = 100\n",
        "rate = 1.1\n",
        "result = deposit * rate\n",
        "\n",
        "print(result)\n",
        "# print(100*1.1)\n",
        "\n"
      ],
      "execution_count": 0,
      "outputs": []
    },
    {
      "metadata": {
        "id": "rC1HHUiBXHXU",
        "colab_type": "code",
        "colab": {}
      },
      "cell_type": "code",
      "source": [
        "# Q-2. (앞 문제에 이어 계속) 일년이 지난 후 두번째 해를 맞이 했다. \n",
        "# 두번째 해가 지나면 은행에 맡긴 돈은 얼마가 되는가? \n",
        "\n",
        "result = deposit * rate\n",
        "result = result * rate\n",
        "# result = (deposit * rate) * rate\n",
        "\n",
        "print(result)\n",
        "# print(100*1.1*1.1)\n"
      ],
      "execution_count": 0,
      "outputs": []
    },
    {
      "metadata": {
        "id": "6WTiWGvYXyLj",
        "colab_type": "code",
        "colab": {}
      },
      "cell_type": "code",
      "source": [
        "# Q-3. (앞 문제에 이어 계속) 7번째 해를 맞이 했다. \n",
        "# 7번째 해가 지나면 은행에 맡긴 돈은 얼마가 되는가? \n",
        "\n",
        "result = ((((((deposit * rate) * rate) * rate) * rate) * rate) * rate) * rate\n",
        "# result = deposit * rate * rate * rate * rate * rate * rate * rate\n",
        "# result = deposit * rate ** 7\n",
        "\n",
        "print(result)\n",
        "# print(100*1.1**7)\n"
      ],
      "execution_count": 0,
      "outputs": []
    },
    {
      "metadata": {
        "id": "-wPSPIv_Xz_G",
        "colab_type": "code",
        "colab": {}
      },
      "cell_type": "code",
      "source": [
        "# Q-4. (앞 문제에 이어 계속) 일년에 10% 이율이 적용되고 같은 비율로 한달을 \n",
        "# 맡겨도 된다고 한다(한달에 0.83 %). 100만원을 한달간 맡기면 한달동안 얼마가 될까?\n",
        "\n",
        "\n",
        "rate = 1 + (0.0083)\n",
        "result = deposit * rate\n",
        "\n",
        "print(result)\n",
        "# print(100*1.0083)\n"
      ],
      "execution_count": 0,
      "outputs": []
    },
    {
      "metadata": {
        "id": "iSgkSYcmX0Em",
        "colab_type": "code",
        "colab": {}
      },
      "cell_type": "code",
      "source": [
        "# Q-5. (앞 문제에 이어 계속) 100만원을 한달간 맡긴 뒤 찾고, 다시 한달간 맡긴 뒤 \n",
        "# 찾기를 7년간 반복한다면 100만원은 최종 얼마가 될까? 연이율 10% 복리 계산과 \n",
        "# 월이율 0.83% 복리계산의 차이를 출력하라.\n",
        "\n",
        "result = deposit * rate ** (7*12)\n",
        "\n",
        "print(result)\n",
        "# print(100*1.0083**84)\n",
        "\n",
        "print(\"Result year-rate Case =\", deposit * 1.1 ** 7)\n",
        "print(\"Result month-rate Case =\", deposit * 1.0083 ** 84)\n",
        "print(\"Difference is \", (deposit * 1.0083 ** 84) - (deposit * 1.1 ** 7), \"만원\")\n"
      ],
      "execution_count": 0,
      "outputs": []
    }
  ]
}
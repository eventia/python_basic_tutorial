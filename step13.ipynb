{
  "nbformat": 4,
  "nbformat_minor": 0,
  "metadata": {
    "colab": {
      "name": "step13.ipynb",
      "version": "0.3.2",
      "provenance": [],
      "collapsed_sections": [],
      "include_colab_link": true
    },
    "kernelspec": {
      "name": "python3",
      "display_name": "Python 3"
    }
  },
  "cells": [
    {
      "cell_type": "markdown",
      "metadata": {
        "id": "view-in-github",
        "colab_type": "text"
      },
      "source": [
        "<a href=\"https://colab.research.google.com/github/eventia/python_basic_tutorial/blob/master/step13.ipynb\" target=\"_parent\"><img src=\"https://colab.research.google.com/assets/colab-badge.svg\" alt=\"Open In Colab\"/></a>"
      ]
    },
    {
      "metadata": {
        "id": "dPDAfIdG9Kbk",
        "colab_type": "text"
      },
      "cell_type": "markdown",
      "source": [
        "## STEP13. 1-5. 연산결과(2)"
      ]
    },
    {
      "metadata": {
        "id": "qipFjz-RV6gS",
        "colab_type": "code",
        "colab": {}
      },
      "cell_type": "code",
      "source": [
        "# Q-1. 다음 코드의 실행결과는?\n",
        "\n",
        "num1 = '1'\n",
        "num2 = '2'\n",
        "print(num1 + num2)\n"
      ],
      "execution_count": 0,
      "outputs": []
    },
    {
      "metadata": {
        "id": "rC1HHUiBXHXU",
        "colab_type": "code",
        "colab": {}
      },
      "cell_type": "code",
      "source": [
        "# Q-2. 다음 코드를 바르게 실행되도록 고쳐보시오.\n",
        "# str() 함수의 사용\n",
        "\n",
        "number = 3\n",
        "print('1 < ' + number + ' u')\n"
      ],
      "execution_count": 0,
      "outputs": []
    },
    {
      "metadata": {
        "id": "6WTiWGvYXyLj",
        "colab_type": "code",
        "colab": {}
      },
      "cell_type": "code",
      "source": [
        "# Q-3. 다음 코드의 실행결과는?\n",
        "\n",
        "print(int('2') + 2)  \n",
        "print(float('2') + 2) \n",
        "print('2' + str(2)) \n"
      ],
      "execution_count": 0,
      "outputs": []
    },
    {
      "metadata": {
        "id": "-wPSPIv_Xz_G",
        "colab_type": "code",
        "colab": {}
      },
      "cell_type": "code",
      "source": [
        "# Q-4. 다음 코드의 실행결과는?\n",
        "\n",
        "print('Hello ' * 2) \n"
      ],
      "execution_count": 0,
      "outputs": []
    },
    {
      "metadata": {
        "id": "iSgkSYcmX0Em",
        "colab_type": "code",
        "colab": {}
      },
      "cell_type": "code",
      "source": [
        "# Q-5. 다음 코드의 실행결과는?\n",
        "\n",
        "fName = 'Hong'\n",
        "pName = 'Gildong'\n",
        "print(type(fName + pName)) \n",
        "print(fName + pName)  \n"
      ],
      "execution_count": 0,
      "outputs": []
    }
  ]
}
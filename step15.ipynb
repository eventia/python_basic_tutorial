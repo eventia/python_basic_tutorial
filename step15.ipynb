{
  "nbformat": 4,
  "nbformat_minor": 0,
  "metadata": {
    "colab": {
      "name": "step15.ipynb",
      "version": "0.3.2",
      "provenance": [],
      "collapsed_sections": [],
      "include_colab_link": true
    },
    "kernelspec": {
      "name": "python3",
      "display_name": "Python 3"
    }
  },
  "cells": [
    {
      "cell_type": "markdown",
      "metadata": {
        "id": "view-in-github",
        "colab_type": "text"
      },
      "source": [
        "<a href=\"https://colab.research.google.com/github/eventia/python_basic_tutorial/blob/master/step15.ipynb\" target=\"_parent\"><img src=\"https://colab.research.google.com/assets/colab-badge.svg\" alt=\"Open In Colab\"/></a>"
      ]
    },
    {
      "metadata": {
        "id": "dPDAfIdG9Kbk",
        "colab_type": "text"
      },
      "cell_type": "markdown",
      "source": [
        "## STEP15. 2-1. 리스트 소개(2)"
      ]
    },
    {
      "metadata": {
        "id": "qipFjz-RV6gS",
        "colab_type": "code",
        "colab": {}
      },
      "cell_type": "code",
      "source": [
        "# Q-1. 다음 코드의 실행결과는?\n",
        "\n",
        "a = [1, 2, 3]\n",
        "print(a)\n",
        "print(type(a))\n",
        "\n",
        "# (1) 1, 2, 3\n",
        "#     <class 'list'>\n",
        "#\n",
        "# (2) 1, 2, 3\n",
        "#     <class 'int'>\n",
        "#\n",
        "# (3) (1, 2, 3)\n",
        "#     <class 'list'>\n",
        "#\n",
        "# (4) [1, 2, 3]\n",
        "#     <class 'list'>\n"
      ],
      "execution_count": 0,
      "outputs": []
    },
    {
      "metadata": {
        "id": "rC1HHUiBXHXU",
        "colab_type": "code",
        "colab": {}
      },
      "cell_type": "code",
      "source": [
        "# Q-2. 다음 코드의 실행결과는?\n",
        "\n",
        "aList = [0, 1]\n",
        "bList = [6, 7]\n",
        "myList = aList + bList\n",
        "print(myList)\n",
        "\n",
        "# (1) [6, 8]\n",
        "#\n",
        "# (2) [0, 7, 7]\n",
        "#\n",
        "# (3) [0, 1, 6, 7]\n",
        "#\n",
        "# (4) [1, 13]\n",
        "#"
      ],
      "execution_count": 0,
      "outputs": []
    },
    {
      "metadata": {
        "id": "6WTiWGvYXyLj",
        "colab_type": "code",
        "colab": {}
      },
      "cell_type": "code",
      "source": [
        "# Q-3. 다음 코드의 실행결과는?\n",
        "\n",
        "aList = ['0', '1']\n",
        "bList = [6, 7]\n",
        "myList = aList + bList\n",
        "print(myList)\n",
        "\n",
        "# (1) ['0', '1']\n",
        "#\n",
        "# (2) [16, 17]\n",
        "#\n",
        "# (3) [6, 8]\n",
        "#\n",
        "# (4) ['0', '1', 6, 7]\n",
        "#"
      ],
      "execution_count": 0,
      "outputs": []
    },
    {
      "metadata": {
        "id": "-wPSPIv_Xz_G",
        "colab_type": "code",
        "colab": {}
      },
      "cell_type": "code",
      "source": [
        "# Q-4. 다음 코드의 실행결과는?\n",
        "\n",
        "aList = [0, 1]\n",
        "myList = aList + 2  \n",
        "print(myList)\n",
        "\n",
        "# (1) TypeError\n",
        "#\n",
        "# (2) [2, 3]\n",
        "#\n",
        "# (3) [0, 1, 2]\n",
        "#\n",
        "# (4) [[0, 1], 2]\n",
        "#"
      ],
      "execution_count": 0,
      "outputs": []
    },
    {
      "metadata": {
        "id": "iSgkSYcmX0Em",
        "colab_type": "code",
        "colab": {}
      },
      "cell_type": "code",
      "source": [
        "# Q-5. 다음 코드의 실행결과는?\n",
        "\n",
        "a = [1]\n",
        "a = a + ['1']\n",
        "print(a)\n",
        "\n",
        "# (1) TypeError\n",
        "#\n",
        "# (2) [1, '1']\n",
        "#\n",
        "# (3) [1, ['1']]\n",
        "#\n",
        "# (4) 2\n",
        "#\n"
      ],
      "execution_count": 0,
      "outputs": []
    }
  ]
}
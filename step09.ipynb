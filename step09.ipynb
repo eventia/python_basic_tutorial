{
  "nbformat": 4,
  "nbformat_minor": 0,
  "metadata": {
    "colab": {
      "name": "step09.ipynb",
      "version": "0.3.2",
      "provenance": [],
      "collapsed_sections": [],
      "include_colab_link": true
    },
    "kernelspec": {
      "name": "python3",
      "display_name": "Python 3"
    }
  },
  "cells": [
    {
      "cell_type": "markdown",
      "metadata": {
        "id": "view-in-github",
        "colab_type": "text"
      },
      "source": [
        "<a href=\"https://colab.research.google.com/github/eventia/python_basic_tutorial/blob/master/step09.ipynb\" target=\"_parent\"><img src=\"https://colab.research.google.com/assets/colab-badge.svg\" alt=\"Open In Colab\"/></a>"
      ]
    },
    {
      "metadata": {
        "id": "dPDAfIdG9Kbk",
        "colab_type": "text"
      },
      "cell_type": "markdown",
      "source": [
        "## STEP09. 1-3. 파이썬의 변수(3)"
      ]
    },
    {
      "metadata": {
        "id": "qipFjz-RV6gS",
        "colab_type": "code",
        "colab": {}
      },
      "cell_type": "code",
      "source": [
        "# Q-1. 변수 savings 를 만들고 100 을 저장하는 코드를 만들라.\n",
        "\n"
      ],
      "execution_count": 0,
      "outputs": []
    },
    {
      "metadata": {
        "id": "rC1HHUiBXHXU",
        "colab_type": "code",
        "colab": {}
      },
      "cell_type": "code",
      "source": [
        "# Q-2. savings 는 원금, rate 는 연이율, year 는 은행에 맡겨둔 기간(해)이다. \n",
        "# 100만원을 연이율 10% 복리로 10년간 맡긴다면 10년후에 원금은 얼마로 불어날지 \n",
        "# 아래의 변수를 사용해서 결과를 출력하라.\n",
        "\n",
        "# savings = 100\n",
        "# rate = 1.1\n",
        "# years = 10\n",
        "# 10년 후의 예금액 : result\n",
        "\n",
        "\n",
        "print(result)\n"
      ],
      "execution_count": 0,
      "outputs": []
    },
    {
      "metadata": {
        "id": "6WTiWGvYXyLj",
        "colab_type": "code",
        "colab": {}
      },
      "cell_type": "code",
      "source": [
        "# Q-3. 다음 코드의 결과를 쓰시오.\n",
        "\n",
        "mySavings = 100\n",
        "mysavings = 200\n",
        "print(mySavings+mysavings)\n"
      ],
      "execution_count": 0,
      "outputs": []
    },
    {
      "metadata": {
        "id": "-wPSPIv_Xz_G",
        "colab_type": "code",
        "colab": {}
      },
      "cell_type": "code",
      "source": [
        "# Q-4. 다음 코드의 결과를 쓰시오.\n",
        "\n",
        "savings = 100\n",
        "print(savings*1.0)\n",
        "print(savings*1)\n"
      ],
      "execution_count": 0,
      "outputs": []
    },
    {
      "metadata": {
        "id": "iSgkSYcmX0Em",
        "colab_type": "code",
        "colab": {}
      },
      "cell_type": "code",
      "source": [
        "# Q-5. 다음 코드의 실행결과는?\n",
        "\n",
        "savings = 100\n",
        "print(savings/2)\n"
      ],
      "execution_count": 0,
      "outputs": []
    }
  ]
}